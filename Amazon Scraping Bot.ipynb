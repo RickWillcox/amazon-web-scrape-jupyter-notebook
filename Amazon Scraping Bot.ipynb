{
 "cells": [
  {
   "cell_type": "code",
   "execution_count": 31,
   "id": "858f99c2",
   "metadata": {},
   "outputs": [],
   "source": [
    "import csv\n",
    "from bs4 import BeautifulSoup as bs"
   ]
  },
  {
   "cell_type": "code",
   "execution_count": 32,
   "id": "fa23788d",
   "metadata": {},
   "outputs": [],
   "source": [
    "from selenium import webdriver"
   ]
  },
  {
   "cell_type": "code",
   "execution_count": 33,
   "id": "619a8aa9",
   "metadata": {},
   "outputs": [],
   "source": [
    "from selenium.webdriver.chrome.service import Service\n",
    "ser = Service(\"C:\\\\Program Files\\\\geckodriver.exe\")\n"
   ]
  },
  {
   "cell_type": "code",
   "execution_count": 34,
   "id": "2d3f14d3",
   "metadata": {},
   "outputs": [],
   "source": [
    "driver = webdriver.Firefox(service = ser)"
   ]
  },
  {
   "cell_type": "code",
   "execution_count": 35,
   "id": "82054a51",
   "metadata": {},
   "outputs": [],
   "source": [
    "url = 'https://www.amazon.com'\n",
    "driver.get(url)"
   ]
  },
  {
   "cell_type": "code",
   "execution_count": 36,
   "id": "b04669b2",
   "metadata": {},
   "outputs": [],
   "source": [
    "def get_url(search_term):\n",
    "    \"\"\"Generate a url from a search term\"\"\"\n",
    "    template = 'https://www.amazon.com/s?k=womens+clothes&crid=1V890I551MG9P&sprefix={}%2Caps%2C272&ref=nb_sb_noss'\n",
    "    search_term = search_term.replace(\" \", \"+\")\n",
    "    return template.format(search_term)"
   ]
  },
  {
   "cell_type": "code",
   "execution_count": 37,
   "id": "b8de7e42",
   "metadata": {},
   "outputs": [
    {
     "name": "stdout",
     "output_type": "stream",
     "text": [
      "https://www.amazon.com/s?k=womens+clothes&crid=1V890I551MG9P&sprefix=women's+clothes%2Caps%2C272&ref=nb_sb_noss\n"
     ]
    }
   ],
   "source": [
    "url = get_url(\"women's clothes\")\n",
    "print(url)"
   ]
  },
  {
   "cell_type": "code",
   "execution_count": 38,
   "id": "b7f21ece",
   "metadata": {},
   "outputs": [],
   "source": [
    "driver.get(url)"
   ]
  },
  {
   "cell_type": "markdown",
   "id": "c02ab2ae",
   "metadata": {},
   "source": [
    "# Extract the Collection"
   ]
  },
  {
   "cell_type": "code",
   "execution_count": 39,
   "id": "64765744",
   "metadata": {},
   "outputs": [],
   "source": [
    "soup = bs(driver.page_source, 'html.parser')"
   ]
  },
  {
   "cell_type": "code",
   "execution_count": 41,
   "id": "5c1db26b",
   "metadata": {},
   "outputs": [],
   "source": [
    "results = soup.find_all('div', {'data-component-type': 's-search-result'})"
   ]
  },
  {
   "cell_type": "markdown",
   "id": "7af4d7a2",
   "metadata": {},
   "source": [
    "# ProtoType the record"
   ]
  },
  {
   "cell_type": "code",
   "execution_count": 88,
   "id": "47a66343",
   "metadata": {},
   "outputs": [],
   "source": [
    "item = results[2]"
   ]
  },
  {
   "cell_type": "markdown",
   "id": "eb827410",
   "metadata": {},
   "source": [
    "Description"
   ]
  },
  {
   "cell_type": "code",
   "execution_count": 100,
   "id": "8aa540c1",
   "metadata": {},
   "outputs": [
    {
     "data": {
      "text/plain": [
       "\"Morhuduck Women's V Neck Hoodies Long Sleeve Sweatshirt Drawstring Pullover Tops with Pocket\""
      ]
     },
     "execution_count": 100,
     "metadata": {},
     "output_type": "execute_result"
    }
   ],
   "source": [
    "description = item.h2.a.text.strip()\n",
    "description"
   ]
  },
  {
   "cell_type": "markdown",
   "id": "4253251f",
   "metadata": {},
   "source": [
    "URL"
   ]
  },
  {
   "cell_type": "code",
   "execution_count": 101,
   "id": "fcac0b76",
   "metadata": {},
   "outputs": [
    {
     "data": {
      "text/plain": [
       "'https://www.amazon.com/Morhuduck-Hoodies-Sweatshirt-Drawstring-Pullover/dp/B09BVM5MB3/ref=sr_1_3?crid=1V890I551MG9P&keywords=womens+clothes&qid=1644300524&sprefix=women%27s+clothes%2Caps%2C272&sr=8-3'"
      ]
     },
     "execution_count": 101,
     "metadata": {},
     "output_type": "execute_result"
    }
   ],
   "source": [
    "url = 'https://www.amazon.com' + atag.get('href')\n",
    "url"
   ]
  },
  {
   "cell_type": "markdown",
   "id": "b539d66d",
   "metadata": {},
   "source": [
    "Price"
   ]
  },
  {
   "cell_type": "code",
   "execution_count": 92,
   "id": "d30978b9",
   "metadata": {},
   "outputs": [],
   "source": [
    "price_parent = item.find('span', 'a-price')"
   ]
  },
  {
   "cell_type": "code",
   "execution_count": 93,
   "id": "048f3516",
   "metadata": {},
   "outputs": [
    {
     "data": {
      "text/plain": [
       "'$21.99'"
      ]
     },
     "execution_count": 93,
     "metadata": {},
     "output_type": "execute_result"
    }
   ],
   "source": [
    "price = price_parent.find('span', 'a-offscreen').text\n",
    "price"
   ]
  },
  {
   "cell_type": "markdown",
   "id": "f1e18624",
   "metadata": {},
   "source": [
    "Stars / 5"
   ]
  },
  {
   "cell_type": "code",
   "execution_count": 94,
   "id": "68342293",
   "metadata": {},
   "outputs": [],
   "source": [
    "rating_parent = item.find('i')"
   ]
  },
  {
   "cell_type": "code",
   "execution_count": 95,
   "id": "48386a30",
   "metadata": {},
   "outputs": [
    {
     "data": {
      "text/plain": [
       "'4.3 out of 5 stars'"
      ]
     },
     "execution_count": 95,
     "metadata": {},
     "output_type": "execute_result"
    }
   ],
   "source": [
    "rating = stars_parent.find('span', 'a-icon-alt').text\n",
    "rating"
   ]
  },
  {
   "cell_type": "markdown",
   "id": "3bb48dd6",
   "metadata": {},
   "source": [
    "Reviews"
   ]
  },
  {
   "cell_type": "code",
   "execution_count": 109,
   "id": "958cc21b",
   "metadata": {},
   "outputs": [
    {
     "data": {
      "text/plain": [
       "'217'"
      ]
     },
     "execution_count": 109,
     "metadata": {},
     "output_type": "execute_result"
    }
   ],
   "source": [
    "reviews_count = item.find('span', {'class' : 'a-size-base'}).text\n",
    "reviews_count"
   ]
  },
  {
   "cell_type": "markdown",
   "id": "7e070b20",
   "metadata": {},
   "source": [
    "# Generalise the pattern"
   ]
  },
  {
   "cell_type": "code",
   "execution_count": 112,
   "id": "d0bd554b",
   "metadata": {},
   "outputs": [],
   "source": [
    "def extract_record(item):\n",
    "    \"\"\"extract and return data from a single record\"\"\"\n",
    "    \n",
    "    # description \n",
    "    description = item.h2.a.text.strip()\n",
    "    \n",
    "    # url\n",
    "    url = 'https://www.amazon.com' + atag.get('href')\n",
    "    \n",
    "    # price\n",
    "    price_parent = item.find('span', 'a-price')\n",
    "    price = price_parent.find('span', 'a-offscreen').text\n",
    "    \n",
    "    # rating / 5\n",
    "    rating_parent = item.find('i')\n",
    "    rating = stars_parent.find('span', 'a-icon-alt').text\n",
    "    \n",
    "    # reviews (total amount)\n",
    "    reviews_count = item.find('span', {'class' : 'a-size-base'}).text\n",
    "    \n",
    "    result = (description, url, price, rating, reviews_count)\n",
    "    \n",
    "    return result"
   ]
  },
  {
   "cell_type": "code",
   "execution_count": 113,
   "id": "06c2ac3b",
   "metadata": {},
   "outputs": [
    {
     "ename": "AttributeError",
     "evalue": "'NoneType' object has no attribute 'find'",
     "output_type": "error",
     "traceback": [
      "\u001b[1;31m---------------------------------------------------------------------------\u001b[0m",
      "\u001b[1;31mAttributeError\u001b[0m                            Traceback (most recent call last)",
      "\u001b[1;32m~\\AppData\\Local\\Temp/ipykernel_7048/3356765086.py\u001b[0m in \u001b[0;36m<module>\u001b[1;34m\u001b[0m\n\u001b[0;32m      3\u001b[0m \u001b[1;33m\u001b[0m\u001b[0m\n\u001b[0;32m      4\u001b[0m \u001b[1;32mfor\u001b[0m \u001b[0mitem\u001b[0m \u001b[1;32min\u001b[0m \u001b[0mresults\u001b[0m\u001b[1;33m:\u001b[0m\u001b[1;33m\u001b[0m\u001b[1;33m\u001b[0m\u001b[0m\n\u001b[1;32m----> 5\u001b[1;33m     \u001b[0mrecord\u001b[0m\u001b[1;33m.\u001b[0m\u001b[0mappend\u001b[0m\u001b[1;33m(\u001b[0m\u001b[0mextract_record\u001b[0m\u001b[1;33m(\u001b[0m\u001b[0mitem\u001b[0m\u001b[1;33m)\u001b[0m\u001b[1;33m)\u001b[0m\u001b[1;33m\u001b[0m\u001b[1;33m\u001b[0m\u001b[0m\n\u001b[0m",
      "\u001b[1;32m~\\AppData\\Local\\Temp/ipykernel_7048/1124850617.py\u001b[0m in \u001b[0;36mextract_record\u001b[1;34m(item)\u001b[0m\n\u001b[0;32m     10\u001b[0m     \u001b[1;31m# price\u001b[0m\u001b[1;33m\u001b[0m\u001b[1;33m\u001b[0m\u001b[0m\n\u001b[0;32m     11\u001b[0m     \u001b[0mprice_parent\u001b[0m \u001b[1;33m=\u001b[0m \u001b[0mitem\u001b[0m\u001b[1;33m.\u001b[0m\u001b[0mfind\u001b[0m\u001b[1;33m(\u001b[0m\u001b[1;34m'span'\u001b[0m\u001b[1;33m,\u001b[0m \u001b[1;34m'a-price'\u001b[0m\u001b[1;33m)\u001b[0m\u001b[1;33m\u001b[0m\u001b[1;33m\u001b[0m\u001b[0m\n\u001b[1;32m---> 12\u001b[1;33m     \u001b[0mprice\u001b[0m \u001b[1;33m=\u001b[0m \u001b[0mprice_parent\u001b[0m\u001b[1;33m.\u001b[0m\u001b[0mfind\u001b[0m\u001b[1;33m(\u001b[0m\u001b[1;34m'span'\u001b[0m\u001b[1;33m,\u001b[0m \u001b[1;34m'a-offscreen'\u001b[0m\u001b[1;33m)\u001b[0m\u001b[1;33m.\u001b[0m\u001b[0mtext\u001b[0m\u001b[1;33m\u001b[0m\u001b[1;33m\u001b[0m\u001b[0m\n\u001b[0m\u001b[0;32m     13\u001b[0m \u001b[1;33m\u001b[0m\u001b[0m\n\u001b[0;32m     14\u001b[0m     \u001b[1;31m# rating / 5\u001b[0m\u001b[1;33m\u001b[0m\u001b[1;33m\u001b[0m\u001b[0m\n",
      "\u001b[1;31mAttributeError\u001b[0m: 'NoneType' object has no attribute 'find'"
     ]
    }
   ],
   "source": [
    "records = []\n",
    "results = results = soup.find_all('div', {'data-component-type': 's-search-result'})\n",
    "\n",
    "for item in results:\n",
    "    records.append(extract_record(item))"
   ]
  },
  {
   "cell_type": "markdown",
   "id": "4fed43c0",
   "metadata": {},
   "source": [
    "# Error Handling"
   ]
  },
  {
   "cell_type": "markdown",
   "id": "135dcc02",
   "metadata": {},
   "source": [
    "### Some listing do not have all attributes"
   ]
  },
  {
   "cell_type": "code",
   "execution_count": 124,
   "id": "451e091f",
   "metadata": {},
   "outputs": [],
   "source": [
    "def extract_record(item):\n",
    "    \"\"\"extract and return data from a single record\"\"\"\n",
    "    \n",
    "    # description \n",
    "    description = item.h2.a.text.strip()\n",
    "    \n",
    "    # url\n",
    "    url = 'https://www.amazon.com' + atag.get('href')\n",
    "    \n",
    "    # price\n",
    "    try:\n",
    "        price_parent = item.find('span', 'a-price')\n",
    "        price = price_parent.find('span', 'a-offscreen').text\n",
    "    except AttributeError:\n",
    "        return\n",
    "    \n",
    "    # rating / 5\n",
    "    try:\n",
    "        rating_parent = item.find('i')\n",
    "        rating = stars_parent.find('span', 'a-icon-alt').text\n",
    "    except AttributeError:\n",
    "        rating = \"\"\n",
    "    \n",
    "    # reviews (total amount)\n",
    "    try:\n",
    "        reviews_count = item.find('span', {'class' : 'a-size-base'}).text\n",
    "    except AttributeError:\n",
    "        reviews_count = \"\"\n",
    "    \n",
    "    result = (description, url, price, rating, reviews_count)\n",
    "    \n",
    "    return result"
   ]
  },
  {
   "cell_type": "code",
   "execution_count": 125,
   "id": "f1ab64d2",
   "metadata": {},
   "outputs": [],
   "source": [
    "records = []\n",
    "results = results = soup.find_all('div', {'data-component-type': 's-search-result'})\n",
    "\n",
    "for item in results:\n",
    "    record = extract_record(item)\n",
    "    if record:\n",
    "        records.append(extract_record(item))"
   ]
  },
  {
   "cell_type": "code",
   "execution_count": 126,
   "id": "c0d3a3c7",
   "metadata": {},
   "outputs": [
    {
     "data": {
      "text/plain": [
       "('ROSKIKI Womens Crochet Hollow-Out Sleeve Button Down Ribbed Knitted Pullover Tops',\n",
       " 'https://www.amazon.com/Morhuduck-Hoodies-Sweatshirt-Drawstring-Pullover/dp/B09BVM5MB3/ref=sr_1_3?crid=1V890I551MG9P&keywords=womens+clothes&qid=1644300524&sprefix=women%27s+clothes%2Caps%2C272&sr=8-3',\n",
       " '$21.99',\n",
       " '4.3 out of 5 stars',\n",
       " '834')"
      ]
     },
     "execution_count": 126,
     "metadata": {},
     "output_type": "execute_result"
    }
   ],
   "source": [
    "records[0]"
   ]
  },
  {
   "cell_type": "markdown",
   "id": "8e8494a1",
   "metadata": {},
   "source": [
    "# Get the next page and all 20 pages (amazon max)"
   ]
  },
  {
   "cell_type": "code",
   "execution_count": 132,
   "id": "e0f794d1",
   "metadata": {},
   "outputs": [],
   "source": [
    "def get_url(search_term):\n",
    "    \"\"\"Generate a url from a search term\"\"\"\n",
    "    template = 'https://www.amazon.com/s?k=womens+clothes&crid=1V890I551MG9P&sprefix={}%2Caps%2C272&ref=nb_sb_noss'\n",
    "    search_term = search_term.replace(\" \", \"+\")\n",
    "    \n",
    "    # add term query to url\n",
    "    url = template.format(search_term)\n",
    "    \n",
    "    # add page number\n",
    "    url += '&page={}'\n",
    "    \n",
    "    return template.format(search_term)"
   ]
  },
  {
   "cell_type": "markdown",
   "id": "c91f8c7a",
   "metadata": {},
   "source": [
    "# putting it all together"
   ]
  },
  {
   "cell_type": "code",
   "execution_count": 141,
   "id": "53429c0a",
   "metadata": {},
   "outputs": [],
   "source": [
    "import csv\n",
    "from bs4 import BeautifulSoup as bs\n",
    "from selenium import webdriver\n",
    "from selenium.webdriver.chrome.service import Service\n",
    "\n",
    "\n",
    "\n",
    "def get_url(search_term):\n",
    "    \"\"\"Generate a url from a search term\"\"\"\n",
    "    template = 'https://www.amazon.com/s?k=womens+clothes&crid=1V890I551MG9P&sprefix={}%2Caps%2C272&ref=nb_sb_noss'\n",
    "    search_term = search_term.replace(\" \", \"+\")\n",
    "    \n",
    "    # add term query to url\n",
    "    url = template.format(search_term)\n",
    "    \n",
    "    # add page number\n",
    "    url += '&page={}'\n",
    "    \n",
    "    return template.format(search_term)\n",
    "\n",
    "def extract_record(item):\n",
    "    \"\"\"extract and return data from a single record\"\"\"\n",
    "    \n",
    "    # description \n",
    "    description = item.h2.a.text.strip()\n",
    "    \n",
    "    # url\n",
    "    url = 'https://www.amazon.com' + atag.get('href')\n",
    "    \n",
    "    # price\n",
    "    try:\n",
    "        price_parent = item.find('span', 'a-price')\n",
    "        price = price_parent.find('span', 'a-offscreen').text\n",
    "    except AttributeError:\n",
    "        return\n",
    "    \n",
    "    # rating / 5\n",
    "    try:\n",
    "        rating_parent = item.find('i')\n",
    "        rating = stars_parent.find('span', 'a-icon-alt').text\n",
    "    except AttributeError:\n",
    "        rating = \"\"\n",
    "    \n",
    "    # reviews (total amount)\n",
    "    try:\n",
    "        reviews_count = item.find('span', {'class' : 'a-size-base'}).text\n",
    "    except AttributeError:\n",
    "        rewviews_count = \"\"\n",
    "    \n",
    "    result = (description, price, rating, reviews_count, url)\n",
    "    \n",
    "    return result\n",
    "\n",
    "def main(search_term):\n",
    "    \"\"\"Run main program routine\"\"\"\n",
    "    # startup the web driver\n",
    "    ser = Service(\"C:\\\\Program Files\\\\geckodriver.exe\")\n",
    "    driver = webdriver.Firefox(service = ser)\n",
    "    \n",
    "    records = []\n",
    "    \n",
    "    url = get_url(search_term)\n",
    "    \n",
    "    for page in range(1, 21):\n",
    "        driver.get(url.format(page))\n",
    "        soup = bs(driver.page_source, 'html.parser')\n",
    "        results = soup.find_all('div', {'data-component-type': 's-search-result'})\n",
    "        \n",
    "        for item in results:\n",
    "            record = extract_record(item)\n",
    "            if record:\n",
    "                records.append(record)\n",
    "    driver.close()\n",
    "    \n",
    "    # save to csv\n",
    "    with open('all_results.csv', 'w', newline='', encoding='utf-8') as f:\n",
    "        writer = csv.writer(f)\n",
    "        writer.writerow(['Description', 'Price', 'Rating', 'ReviewCount', 'Url'])\n",
    "        writer.writerows(records)\n",
    "    \n",
    "    "
   ]
  },
  {
   "cell_type": "code",
   "execution_count": 142,
   "id": "d1025b58",
   "metadata": {},
   "outputs": [],
   "source": [
    "main('computer monitor')"
   ]
  },
  {
   "cell_type": "code",
   "execution_count": null,
   "id": "f91fd0db",
   "metadata": {},
   "outputs": [],
   "source": []
  }
 ],
 "metadata": {
  "kernelspec": {
   "display_name": "Python 3 (ipykernel)",
   "language": "python",
   "name": "python3"
  },
  "language_info": {
   "codemirror_mode": {
    "name": "ipython",
    "version": 3
   },
   "file_extension": ".py",
   "mimetype": "text/x-python",
   "name": "python",
   "nbconvert_exporter": "python",
   "pygments_lexer": "ipython3",
   "version": "3.9.7"
  }
 },
 "nbformat": 4,
 "nbformat_minor": 5
}

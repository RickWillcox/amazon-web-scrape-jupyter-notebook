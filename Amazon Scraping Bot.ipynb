{
 "cells": [
  {
   "cell_type": "code",
   "execution_count": 31,
   "id": "93fdb005",
   "metadata": {},
   "outputs": [],
   "source": [
    "import csv\n",
    "from bs4 import BeautifulSoup as bs"
   ]
  },
  {
   "cell_type": "code",
   "execution_count": 32,
   "id": "ce0f5583",
   "metadata": {},
   "outputs": [],
   "source": [
    "from selenium import webdriver"
   ]
  },
  {
   "cell_type": "code",
   "execution_count": 33,
   "id": "391f39ce",
   "metadata": {},
   "outputs": [],
   "source": [
    "from selenium.webdriver.chrome.service import Service\n",
    "ser = Service(\"C:\\\\Program Files\\\\geckodriver.exe\")\n"
   ]
  },
  {
   "cell_type": "code",
   "execution_count": 34,
   "id": "a912a7f1",
   "metadata": {},
   "outputs": [],
   "source": [
    "driver = webdriver.Firefox(service = ser)"
   ]
  },
  {
   "cell_type": "code",
   "execution_count": 35,
   "id": "bc10d306",
   "metadata": {},
   "outputs": [],
   "source": [
    "url = 'https://www.amazon.com'\n",
    "driver.get(url)"
   ]
  },
  {
   "cell_type": "code",
   "execution_count": 36,
   "id": "a4156302",
   "metadata": {},
   "outputs": [],
   "source": [
    "def get_url(search_term):\n",
    "    \"\"\"Generate a url from a search term\"\"\"\n",
    "    template = 'https://www.amazon.com/s?k=womens+clothes&crid=1V890I551MG9P&sprefix={}%2Caps%2C272&ref=nb_sb_noss'\n",
    "    search_term = search_term.replace(\" \", \"+\")\n",
    "    return template.format(search_term)"
   ]
  },
  {
   "cell_type": "code",
   "execution_count": 37,
   "id": "772c5479",
   "metadata": {},
   "outputs": [
    {
     "name": "stdout",
     "output_type": "stream",
     "text": [
      "https://www.amazon.com/s?k=womens+clothes&crid=1V890I551MG9P&sprefix=women's+clothes%2Caps%2C272&ref=nb_sb_noss\n"
     ]
    }
   ],
   "source": [
    "url = get_url(\"women's clothes\")\n",
    "print(url)"
   ]
  },
  {
   "cell_type": "code",
   "execution_count": 38,
   "id": "bc1db4cd",
   "metadata": {},
   "outputs": [],
   "source": [
    "driver.get(url)"
   ]
  },
  {
   "cell_type": "markdown",
   "id": "11b90fa4",
   "metadata": {},
   "source": [
    "# Extract the Collection"
   ]
  },
  {
   "cell_type": "code",
   "execution_count": 39,
   "id": "72284fd5",
   "metadata": {},
   "outputs": [],
   "source": [
    "soup = bs(driver.page_source, 'html.parser')"
   ]
  },
  {
   "cell_type": "code",
   "execution_count": 41,
   "id": "5f0fe13c",
   "metadata": {},
   "outputs": [],
   "source": [
    "results = soup.find_all('div', {'data-component-type': 's-search-result'})"
   ]
  },
  {
   "cell_type": "markdown",
   "id": "928c5ea2",
   "metadata": {},
   "source": [
    "# ProtoType the record"
   ]
  },
  {
   "cell_type": "code",
   "execution_count": 88,
   "id": "a7e031c7",
   "metadata": {},
   "outputs": [],
   "source": [
    "item = results[2]"
   ]
  },
  {
   "cell_type": "markdown",
   "id": "3e1674b3",
   "metadata": {},
   "source": [
    "Description"
   ]
  },
  {
   "cell_type": "code",
   "execution_count": 100,
   "id": "a576a8c4",
   "metadata": {},
   "outputs": [
    {
     "data": {
      "text/plain": [
       "\"Morhuduck Women's V Neck Hoodies Long Sleeve Sweatshirt Drawstring Pullover Tops with Pocket\""
      ]
     },
     "execution_count": 100,
     "metadata": {},
     "output_type": "execute_result"
    }
   ],
   "source": [
    "description = item.h2.a.text.strip()\n",
    "description"
   ]
  },
  {
   "cell_type": "markdown",
   "id": "ab54db31",
   "metadata": {},
   "source": [
    "URL"
   ]
  },
  {
   "cell_type": "code",
   "execution_count": 101,
   "id": "6ec81f58",
   "metadata": {},
   "outputs": [
    {
     "data": {
      "text/plain": [
       "'https://www.amazon.com/Morhuduck-Hoodies-Sweatshirt-Drawstring-Pullover/dp/B09BVM5MB3/ref=sr_1_3?crid=1V890I551MG9P&keywords=womens+clothes&qid=1644300524&sprefix=women%27s+clothes%2Caps%2C272&sr=8-3'"
      ]
     },
     "execution_count": 101,
     "metadata": {},
     "output_type": "execute_result"
    }
   ],
   "source": [
    "url = 'https://www.amazon.com' + atag.get('href')\n",
    "url"
   ]
  },
  {
   "cell_type": "markdown",
   "id": "bcdf970d",
   "metadata": {},
   "source": [
    "Price"
   ]
  },
  {
   "cell_type": "code",
   "execution_count": 92,
   "id": "83c7b634",
   "metadata": {},
   "outputs": [],
   "source": [
    "price_parent = item.find('span', 'a-price')"
   ]
  },
  {
   "cell_type": "code",
   "execution_count": 93,
   "id": "ec19105b",
   "metadata": {},
   "outputs": [
    {
     "data": {
      "text/plain": [
       "'$21.99'"
      ]
     },
     "execution_count": 93,
     "metadata": {},
     "output_type": "execute_result"
    }
   ],
   "source": [
    "price = price_parent.find('span', 'a-offscreen').text\n",
    "price"
   ]
  },
  {
   "cell_type": "markdown",
   "id": "4ca470d1",
   "metadata": {},
   "source": [
    "Stars / 5"
   ]
  },
  {
   "cell_type": "code",
   "execution_count": 94,
   "id": "92123d90",
   "metadata": {},
   "outputs": [],
   "source": [
    "rating_parent = item.find('i')"
   ]
  },
  {
   "cell_type": "code",
   "execution_count": 95,
   "id": "e2fe983a",
   "metadata": {},
   "outputs": [
    {
     "data": {
      "text/plain": [
       "'4.3 out of 5 stars'"
      ]
     },
     "execution_count": 95,
     "metadata": {},
     "output_type": "execute_result"
    }
   ],
   "source": [
    "rating = stars_parent.find('span', 'a-icon-alt').text\n",
    "rating"
   ]
  },
  {
   "cell_type": "markdown",
   "id": "7d0812f6",
   "metadata": {},
   "source": [
    "Reviews"
   ]
  },
  {
   "cell_type": "code",
   "execution_count": 109,
   "id": "291ff65d",
   "metadata": {},
   "outputs": [
    {
     "data": {
      "text/plain": [
       "'217'"
      ]
     },
     "execution_count": 109,
     "metadata": {},
     "output_type": "execute_result"
    }
   ],
   "source": [
    "reviews_count = item.find('span', {'class' : 'a-size-base'}).text\n",
    "reviews_count"
   ]
  },
  {
   "cell_type": "markdown",
   "id": "d01dba56",
   "metadata": {},
   "source": [
    "# Generalise the pattern"
   ]
  },
  {
   "cell_type": "code",
   "execution_count": 112,
   "id": "01dc82d8",
   "metadata": {},
   "outputs": [],
   "source": [
    "def extract_record(item):\n",
    "    \"\"\"extract and return data from a single record\"\"\"\n",
    "    \n",
    "    # description \n",
    "    description = item.h2.a.text.strip()\n",
    "    \n",
    "    # url\n",
    "    url = 'https://www.amazon.com' + atag.get('href')\n",
    "    \n",
    "    # price\n",
    "    price_parent = item.find('span', 'a-price')\n",
    "    price = price_parent.find('span', 'a-offscreen').text\n",
    "    \n",
    "    # rating / 5\n",
    "    rating_parent = item.find('i')\n",
    "    rating = stars_parent.find('span', 'a-icon-alt').text\n",
    "    \n",
    "    # reviews (total amount)\n",
    "    reviews_count = item.find('span', {'class' : 'a-size-base'}).text\n",
    "    \n",
    "    result = (description, url, price, rating, reviews_count)\n",
    "    \n",
    "    return result"
   ]
  },
  {
   "cell_type": "code",
   "execution_count": 113,
   "id": "4bf840e6",
   "metadata": {},
   "outputs": [
    {
     "ename": "AttributeError",
     "evalue": "'NoneType' object has no attribute 'find'",
     "output_type": "error",
     "traceback": [
      "\u001b[1;31m---------------------------------------------------------------------------\u001b[0m",
      "\u001b[1;31mAttributeError\u001b[0m                            Traceback (most recent call last)",
      "\u001b[1;32m~\\AppData\\Local\\Temp/ipykernel_7048/3356765086.py\u001b[0m in \u001b[0;36m<module>\u001b[1;34m\u001b[0m\n\u001b[0;32m      3\u001b[0m \u001b[1;33m\u001b[0m\u001b[0m\n\u001b[0;32m      4\u001b[0m \u001b[1;32mfor\u001b[0m \u001b[0mitem\u001b[0m \u001b[1;32min\u001b[0m \u001b[0mresults\u001b[0m\u001b[1;33m:\u001b[0m\u001b[1;33m\u001b[0m\u001b[1;33m\u001b[0m\u001b[0m\n\u001b[1;32m----> 5\u001b[1;33m     \u001b[0mrecord\u001b[0m\u001b[1;33m.\u001b[0m\u001b[0mappend\u001b[0m\u001b[1;33m(\u001b[0m\u001b[0mextract_record\u001b[0m\u001b[1;33m(\u001b[0m\u001b[0mitem\u001b[0m\u001b[1;33m)\u001b[0m\u001b[1;33m)\u001b[0m\u001b[1;33m\u001b[0m\u001b[1;33m\u001b[0m\u001b[0m\n\u001b[0m",
      "\u001b[1;32m~\\AppData\\Local\\Temp/ipykernel_7048/1124850617.py\u001b[0m in \u001b[0;36mextract_record\u001b[1;34m(item)\u001b[0m\n\u001b[0;32m     10\u001b[0m     \u001b[1;31m# price\u001b[0m\u001b[1;33m\u001b[0m\u001b[1;33m\u001b[0m\u001b[0m\n\u001b[0;32m     11\u001b[0m     \u001b[0mprice_parent\u001b[0m \u001b[1;33m=\u001b[0m \u001b[0mitem\u001b[0m\u001b[1;33m.\u001b[0m\u001b[0mfind\u001b[0m\u001b[1;33m(\u001b[0m\u001b[1;34m'span'\u001b[0m\u001b[1;33m,\u001b[0m \u001b[1;34m'a-price'\u001b[0m\u001b[1;33m)\u001b[0m\u001b[1;33m\u001b[0m\u001b[1;33m\u001b[0m\u001b[0m\n\u001b[1;32m---> 12\u001b[1;33m     \u001b[0mprice\u001b[0m \u001b[1;33m=\u001b[0m \u001b[0mprice_parent\u001b[0m\u001b[1;33m.\u001b[0m\u001b[0mfind\u001b[0m\u001b[1;33m(\u001b[0m\u001b[1;34m'span'\u001b[0m\u001b[1;33m,\u001b[0m \u001b[1;34m'a-offscreen'\u001b[0m\u001b[1;33m)\u001b[0m\u001b[1;33m.\u001b[0m\u001b[0mtext\u001b[0m\u001b[1;33m\u001b[0m\u001b[1;33m\u001b[0m\u001b[0m\n\u001b[0m\u001b[0;32m     13\u001b[0m \u001b[1;33m\u001b[0m\u001b[0m\n\u001b[0;32m     14\u001b[0m     \u001b[1;31m# rating / 5\u001b[0m\u001b[1;33m\u001b[0m\u001b[1;33m\u001b[0m\u001b[0m\n",
      "\u001b[1;31mAttributeError\u001b[0m: 'NoneType' object has no attribute 'find'"
     ]
    }
   ],
   "source": [
    "records = []\n",
    "results = results = soup.find_all('div', {'data-component-type': 's-search-result'})\n",
    "\n",
    "for item in results:\n",
    "    records.append(extract_record(item))"
   ]
  },
  {
   "cell_type": "markdown",
   "id": "444f2e03",
   "metadata": {},
   "source": [
    "# Error Handling"
   ]
  },
  {
   "cell_type": "markdown",
   "id": "5fd5571b",
   "metadata": {},
   "source": [
    "### Some listing do not have all attributes"
   ]
  },
  {
   "cell_type": "code",
   "execution_count": 124,
   "id": "ac7bf43e",
   "metadata": {},
   "outputs": [],
   "source": [
    "def extract_record(item):\n",
    "    \"\"\"extract and return data from a single record\"\"\"\n",
    "    \n",
    "    # description \n",
    "    description = item.h2.a.text.strip()\n",
    "    \n",
    "    # url\n",
    "    url = 'https://www.amazon.com' + atag.get('href')\n",
    "    \n",
    "    # price\n",
    "    try:\n",
    "        price_parent = item.find('span', 'a-price')\n",
    "        price = price_parent.find('span', 'a-offscreen').text\n",
    "    except AttributeError:\n",
    "        return\n",
    "    \n",
    "    # rating / 5\n",
    "    try:\n",
    "        rating_parent = item.find('i')\n",
    "        rating = stars_parent.find('span', 'a-icon-alt').text\n",
    "    except AttributeError:\n",
    "        rating = \"\"\n",
    "    \n",
    "    # reviews (total amount)\n",
    "    try:\n",
    "        reviews_count = item.find('span', {'class' : 'a-size-base'}).text\n",
    "    except AttributeError:\n",
    "        reviews_count = \"\"\n",
    "    \n",
    "    result = (description, url, price, rating, reviews_count)\n",
    "    \n",
    "    return result"
   ]
  },
  {
   "cell_type": "code",
   "execution_count": 125,
   "id": "f36f82c0",
   "metadata": {},
   "outputs": [],
   "source": [
    "records = []\n",
    "results = results = soup.find_all('div', {'data-component-type': 's-search-result'})\n",
    "\n",
    "for item in results:\n",
    "    record = extract_record(item)\n",
    "    if record:\n",
    "        records.append(extract_record(item))"
   ]
  },
  {
   "cell_type": "code",
   "execution_count": 126,
   "id": "d99b4128",
   "metadata": {},
   "outputs": [
    {
     "data": {
      "text/plain": [
       "('ROSKIKI Womens Crochet Hollow-Out Sleeve Button Down Ribbed Knitted Pullover Tops',\n",
       " 'https://www.amazon.com/Morhuduck-Hoodies-Sweatshirt-Drawstring-Pullover/dp/B09BVM5MB3/ref=sr_1_3?crid=1V890I551MG9P&keywords=womens+clothes&qid=1644300524&sprefix=women%27s+clothes%2Caps%2C272&sr=8-3',\n",
       " '$21.99',\n",
       " '4.3 out of 5 stars',\n",
       " '834')"
      ]
     },
     "execution_count": 126,
     "metadata": {},
     "output_type": "execute_result"
    }
   ],
   "source": [
    "records[0]"
   ]
  },
  {
   "cell_type": "markdown",
   "id": "904ba2ff",
   "metadata": {},
   "source": [
    "# Get the next page and all 20 pages (amazon max)"
   ]
  },
  {
   "cell_type": "code",
   "execution_count": 132,
   "id": "2c8befd1",
   "metadata": {},
   "outputs": [],
   "source": [
    "def get_url(search_term):\n",
    "    \"\"\"Generate a url from a search term\"\"\"\n",
    "    template = 'https://www.amazon.com/s?k=womens+clothes&crid=1V890I551MG9P&sprefix={}%2Caps%2C272&ref=nb_sb_noss'\n",
    "    search_term = search_term.replace(\" \", \"+\")\n",
    "    \n",
    "    # add term query to url\n",
    "    url = template.format(search_term)\n",
    "    \n",
    "    # add page number\n",
    "    url += '&page={}'\n",
    "    \n",
    "    return template.format(search_term)"
   ]
  },
  {
   "cell_type": "markdown",
   "id": "68d104c6",
   "metadata": {},
   "source": [
    "# putting it all together"
   ]
  },
  {
   "cell_type": "code",
   "execution_count": 138,
   "id": "a66f2160",
   "metadata": {},
   "outputs": [],
   "source": [
    "import csv\n",
    "from bs4 import BeautifulSoup as bs\n",
    "from selenium import webdriver\n",
    "from selenium.webdriver.chrome.service import Service\n",
    "\n",
    "\n",
    "\n",
    "def get_url(search_term):\n",
    "    \"\"\"Generate a url from a search term\"\"\"\n",
    "    template = 'https://www.amazon.com/s?k=womens+clothes&crid=1V890I551MG9P&sprefix={}%2Caps%2C272&ref=nb_sb_noss'\n",
    "    search_term = search_term.replace(\" \", \"+\")\n",
    "    \n",
    "    # add term query to url\n",
    "    url = template.format(search_term)\n",
    "    \n",
    "    # add page number\n",
    "    url += '&page={}'\n",
    "    \n",
    "    return template.format(search_term)\n",
    "\n",
    "def extract_record(item):\n",
    "    \"\"\"extract and return data from a single record\"\"\"\n",
    "    \n",
    "    # description \n",
    "    description = item.h2.a.text.strip()\n",
    "    \n",
    "    # url\n",
    "    url = 'https://www.amazon.com' + atag.get('href')\n",
    "    \n",
    "    # price\n",
    "    try:\n",
    "        price_parent = item.find('span', 'a-price')\n",
    "        price = price_parent.find('span', 'a-offscreen').text\n",
    "    except AttributeError:\n",
    "        return\n",
    "    \n",
    "    # rating / 5\n",
    "    try:\n",
    "        rating_parent = item.find('i')\n",
    "        rating = stars_parent.find('span', 'a-icon-alt').text\n",
    "    except AttributeError:\n",
    "        rating = \"\"\n",
    "    \n",
    "    # reviews (total amount)\n",
    "    try:\n",
    "        reviews_count = item.find('span', {'class' : 'a-size-base'}).text\n",
    "    except AttributeError:\n",
    "        rewviews_count = \"\"\n",
    "    \n",
    "    result = (description, price, rating, reviews_count, url)\n",
    "    \n",
    "    return result\n",
    "\n",
    "def main(search_term):\n",
    "    \"\"\"Run main program routine\"\"\"\n",
    "    # startup the web driver\n",
    "    ser = Service(\"C:\\\\Program Files\\\\geckodriver.exe\")\n",
    "    driver = webdriver.Firefox(service = ser)\n",
    "    \n",
    "    records = []\n",
    "    \n",
    "    url = get_url(search_term)\n",
    "    \n",
    "    for page in range(1, 2):\n",
    "        driver.get(url.format(page))\n",
    "        soup = bs(driver.page_source, 'html.parser')\n",
    "        results = soup.find_all('div', {'data-component-type': 's-search-result'})\n",
    "        \n",
    "        for item in results:\n",
    "            record = extract_record(item)\n",
    "            if record:\n",
    "                records.append(record)\n",
    "    driver.close()\n",
    "    \n",
    "    # save to csv\n",
    "    with open('results.csv', 'w', newline='', encoding='utf-8') as f:\n",
    "        writer = csv.writer(f)\n",
    "        writer.writerow(['Description', 'Price', 'Rating', 'ReviewCount', 'Url'])\n",
    "        writer.writerows(records)\n",
    "    \n",
    "    "
   ]
  },
  {
   "cell_type": "code",
   "execution_count": 139,
   "id": "40ebec61",
   "metadata": {},
   "outputs": [],
   "source": [
    "main('womens clothes')"
   ]
  },
  {
   "cell_type": "code",
   "execution_count": null,
   "id": "3e1469f0",
   "metadata": {},
   "outputs": [],
   "source": []
  }
 ],
 "metadata": {
  "kernelspec": {
   "display_name": "Python 3 (ipykernel)",
   "language": "python",
   "name": "python3"
  },
  "language_info": {
   "codemirror_mode": {
    "name": "ipython",
    "version": 3
   },
   "file_extension": ".py",
   "mimetype": "text/x-python",
   "name": "python",
   "nbconvert_exporter": "python",
   "pygments_lexer": "ipython3",
   "version": "3.9.7"
  }
 },
 "nbformat": 4,
 "nbformat_minor": 5
}
